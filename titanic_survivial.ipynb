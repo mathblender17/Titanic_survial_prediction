{
  "metadata": {
    "kernelspec": {
      "language": "python",
      "display_name": "Python 3",
      "name": "python3"
    },
    "language_info": {
      "name": "python",
      "version": "3.10.12",
      "mimetype": "text/x-python",
      "codemirror_mode": {
        "name": "ipython",
        "version": 3
      },
      "pygments_lexer": "ipython3",
      "nbconvert_exporter": "python",
      "file_extension": ".py"
    },
    "kaggle": {
      "accelerator": "none",
      "dataSources": [
        {
          "sourceId": 3136,
          "databundleVersionId": 26502,
          "sourceType": "competition"
        }
      ],
      "dockerImageVersionId": 30839,
      "isInternetEnabled": false,
      "language": "python",
      "sourceType": "notebook",
      "isGpuEnabled": false
    },
    "colab": {
      "name": "titanic survivial ",
      "provenance": []
    }
  },
  "nbformat_minor": 0,
  "nbformat": 4,
  "cells": [
    {
      "source": [
        "# IMPORTANT: SOME KAGGLE DATA SOURCES ARE PRIVATE\n",
        "# RUN THIS CELL IN ORDER TO IMPORT YOUR KAGGLE DATA SOURCES.\n",
        "import kagglehub\n",
        "kagglehub.login()\n"
      ],
      "metadata": {
        "id": "OGbn7Fd4oBRt"
      },
      "cell_type": "code",
      "outputs": [],
      "execution_count": null
    },
    {
      "source": [
        "# IMPORTANT: RUN THIS CELL IN ORDER TO IMPORT YOUR KAGGLE DATA SOURCES,\n",
        "# THEN FEEL FREE TO DELETE THIS CELL.\n",
        "# NOTE: THIS NOTEBOOK ENVIRONMENT DIFFERS FROM KAGGLE'S PYTHON\n",
        "# ENVIRONMENT SO THERE MAY BE MISSING LIBRARIES USED BY YOUR\n",
        "# NOTEBOOK.\n",
        "\n",
        "titanic_path = kagglehub.competition_download('titanic')\n",
        "\n",
        "print('Data source import complete.')\n"
      ],
      "metadata": {
        "id": "xXN4DyaLoBRw"
      },
      "cell_type": "code",
      "outputs": [],
      "execution_count": null
    },
    {
      "cell_type": "markdown",
      "source": [],
      "metadata": {
        "id": "5Xs4co7loBRy"
      }
    },
    {
      "cell_type": "code",
      "source": [
        "dftr=pd.read_csv('/kaggle/input/titanic/train.csv')\n",
        "print(dftr.head())"
      ],
      "metadata": {
        "trusted": true,
        "execution": {
          "iopub.status.busy": "2025-01-17T17:38:28.873063Z",
          "iopub.execute_input": "2025-01-17T17:38:28.873719Z",
          "iopub.status.idle": "2025-01-17T17:38:28.912141Z",
          "shell.execute_reply.started": "2025-01-17T17:38:28.873681Z",
          "shell.execute_reply": "2025-01-17T17:38:28.910794Z"
        },
        "id": "4M_IZr04oBRz"
      },
      "outputs": [],
      "execution_count": null
    },
    {
      "cell_type": "code",
      "source": [
        "print(dftr.shape[0])"
      ],
      "metadata": {
        "trusted": true,
        "execution": {
          "iopub.status.busy": "2025-01-17T17:38:28.914911Z",
          "iopub.execute_input": "2025-01-17T17:38:28.915362Z",
          "iopub.status.idle": "2025-01-17T17:38:28.921145Z",
          "shell.execute_reply.started": "2025-01-17T17:38:28.915318Z",
          "shell.execute_reply": "2025-01-17T17:38:28.919758Z"
        },
        "id": "Vf61AWX3oBR0"
      },
      "outputs": [],
      "execution_count": null
    },
    {
      "cell_type": "code",
      "source": [
        "count_ones=dftr['Survived'].sum()\n",
        "count_zeros=(dftr['Survived']==0).sum()\n",
        "print(count_ones)\n",
        "print(count_zeros)"
      ],
      "metadata": {
        "trusted": true,
        "execution": {
          "iopub.status.busy": "2025-01-17T17:38:28.922661Z",
          "iopub.execute_input": "2025-01-17T17:38:28.923077Z",
          "iopub.status.idle": "2025-01-17T17:38:28.943867Z",
          "shell.execute_reply.started": "2025-01-17T17:38:28.923031Z",
          "shell.execute_reply": "2025-01-17T17:38:28.942607Z"
        },
        "id": "lttVCAYeoBR0"
      },
      "outputs": [],
      "execution_count": null
    },
    {
      "cell_type": "code",
      "source": [
        "print(count_ones/count_zeros)"
      ],
      "metadata": {
        "trusted": true,
        "execution": {
          "iopub.status.busy": "2025-01-17T17:38:28.944941Z",
          "iopub.execute_input": "2025-01-17T17:38:28.945328Z",
          "iopub.status.idle": "2025-01-17T17:38:28.951177Z",
          "shell.execute_reply.started": "2025-01-17T17:38:28.94527Z",
          "shell.execute_reply": "2025-01-17T17:38:28.950117Z"
        },
        "id": "jVNXOljJoBR1"
      },
      "outputs": [],
      "execution_count": null
    },
    {
      "cell_type": "markdown",
      "source": [
        "Although the dataset is unbalenced but not that much - do let's treat it as balenced"
      ],
      "metadata": {
        "id": "FDqId2-AoBR2"
      }
    },
    {
      "cell_type": "markdown",
      "source": [
        "is null values"
      ],
      "metadata": {
        "id": "PWbhOk64oBR2"
      }
    },
    {
      "cell_type": "code",
      "source": [
        "print(dftr.isnull().sum())"
      ],
      "metadata": {
        "trusted": true,
        "execution": {
          "iopub.status.busy": "2025-01-17T17:38:28.952069Z",
          "iopub.execute_input": "2025-01-17T17:38:28.952369Z",
          "iopub.status.idle": "2025-01-17T17:38:28.972476Z",
          "shell.execute_reply.started": "2025-01-17T17:38:28.952344Z",
          "shell.execute_reply": "2025-01-17T17:38:28.971353Z"
        },
        "id": "DtLGFrUBoBR3"
      },
      "outputs": [],
      "execution_count": null
    },
    {
      "cell_type": "code",
      "source": [
        "print(dftr.info())"
      ],
      "metadata": {
        "trusted": true,
        "execution": {
          "iopub.status.busy": "2025-01-17T17:38:28.97357Z",
          "iopub.execute_input": "2025-01-17T17:38:28.973875Z",
          "iopub.status.idle": "2025-01-17T17:38:28.997738Z",
          "shell.execute_reply.started": "2025-01-17T17:38:28.973848Z",
          "shell.execute_reply": "2025-01-17T17:38:28.996732Z"
        },
        "id": "tq9CnNqvoBR4"
      },
      "outputs": [],
      "execution_count": null
    },
    {
      "cell_type": "code",
      "source": [
        "dftr.duplicated().sum()"
      ],
      "metadata": {
        "trusted": true,
        "execution": {
          "iopub.status.busy": "2025-01-17T17:38:29.000844Z",
          "iopub.execute_input": "2025-01-17T17:38:29.001144Z",
          "iopub.status.idle": "2025-01-17T17:38:29.013501Z",
          "shell.execute_reply.started": "2025-01-17T17:38:29.00112Z",
          "shell.execute_reply": "2025-01-17T17:38:29.012136Z"
        },
        "id": "HZzf6qNzoBR5"
      },
      "outputs": [],
      "execution_count": null
    },
    {
      "cell_type": "code",
      "source": [
        "import sklearn as sk\n",
        "import matplotlib.pyplot as plt"
      ],
      "metadata": {
        "trusted": true,
        "execution": {
          "iopub.status.busy": "2025-01-17T17:39:28.94386Z",
          "iopub.execute_input": "2025-01-17T17:39:28.94424Z",
          "iopub.status.idle": "2025-01-17T17:39:29.482585Z",
          "shell.execute_reply.started": "2025-01-17T17:39:28.944214Z",
          "shell.execute_reply": "2025-01-17T17:39:29.481483Z"
        },
        "id": "hCGyUU90oBR6"
      },
      "outputs": [],
      "execution_count": null
    },
    {
      "cell_type": "code",
      "source": [
        "\n",
        "dftr['Survived'].value_counts().plot(kind='bar', color=['red', 'green'])\n",
        "plt.xlabel('Class')\n",
        "plt.ylabel('Count')\n",
        "plt.title('Class Distribution')\n",
        "plt.show()\n"
      ],
      "metadata": {
        "trusted": true,
        "execution": {
          "iopub.status.busy": "2025-01-17T17:39:29.526725Z",
          "iopub.execute_input": "2025-01-17T17:39:29.527204Z",
          "iopub.status.idle": "2025-01-17T17:39:29.690879Z",
          "shell.execute_reply.started": "2025-01-17T17:39:29.527174Z",
          "shell.execute_reply": "2025-01-17T17:39:29.689836Z"
        },
        "id": "ih64cNkdoBR6"
      },
      "outputs": [],
      "execution_count": null
    },
    {
      "cell_type": "code",
      "source": [
        "dftr.describe()"
      ],
      "metadata": {
        "trusted": true,
        "execution": {
          "iopub.status.busy": "2025-01-17T17:39:32.412481Z",
          "iopub.execute_input": "2025-01-17T17:39:32.412911Z",
          "iopub.status.idle": "2025-01-17T17:39:32.450091Z",
          "shell.execute_reply.started": "2025-01-17T17:39:32.412867Z",
          "shell.execute_reply": "2025-01-17T17:39:32.448974Z"
        },
        "id": "NVcDEqpIoBR6"
      },
      "outputs": [],
      "execution_count": null
    },
    {
      "cell_type": "code",
      "source": [],
      "metadata": {
        "trusted": true,
        "execution": {
          "iopub.status.busy": "2025-01-17T17:38:29.380186Z",
          "iopub.status.idle": "2025-01-17T17:38:29.380546Z",
          "shell.execute_reply": "2025-01-17T17:38:29.380402Z"
        },
        "id": "-CJcRXsBoBR6"
      },
      "outputs": [],
      "execution_count": null
    },
    {
      "cell_type": "code",
      "source": [
        "categorical_col=dftr.select_dtypes(include=['object']).columns\n",
        "print (categorical_col)"
      ],
      "metadata": {
        "trusted": true,
        "execution": {
          "iopub.status.busy": "2025-01-17T17:39:36.595998Z",
          "iopub.execute_input": "2025-01-17T17:39:36.596416Z",
          "iopub.status.idle": "2025-01-17T17:39:36.603211Z",
          "shell.execute_reply.started": "2025-01-17T17:39:36.596381Z",
          "shell.execute_reply": "2025-01-17T17:39:36.602059Z"
        },
        "id": "8YgyEktGoBR7"
      },
      "outputs": [],
      "execution_count": null
    },
    {
      "cell_type": "code",
      "source": [
        "# One-hot encode 'Embarked' column\n",
        "dftr = pd.get_dummies(dftr, columns=['Embarked'], drop_first=True)\n",
        "\n",
        "# This will create columns like 'Embarked_Q' and 'Embarked_S' (instead of 'Embarked')\n"
      ],
      "metadata": {
        "trusted": true,
        "execution": {
          "iopub.status.busy": "2025-01-17T17:39:38.648201Z",
          "iopub.execute_input": "2025-01-17T17:39:38.648595Z",
          "iopub.status.idle": "2025-01-17T17:39:38.661266Z",
          "shell.execute_reply.started": "2025-01-17T17:39:38.648565Z",
          "shell.execute_reply": "2025-01-17T17:39:38.659909Z"
        },
        "id": "mH2dSyqToBR7"
      },
      "outputs": [],
      "execution_count": null
    },
    {
      "cell_type": "code",
      "source": [
        "print(dftr.info())"
      ],
      "metadata": {
        "trusted": true,
        "execution": {
          "iopub.status.busy": "2025-01-17T17:39:40.86573Z",
          "iopub.execute_input": "2025-01-17T17:39:40.866124Z",
          "iopub.status.idle": "2025-01-17T17:39:40.878697Z",
          "shell.execute_reply.started": "2025-01-17T17:39:40.866092Z",
          "shell.execute_reply": "2025-01-17T17:39:40.877153Z"
        },
        "id": "k9fp_hjooBR7"
      },
      "outputs": [],
      "execution_count": null
    },
    {
      "cell_type": "code",
      "source": [
        "#label encoding\n",
        "from sklearn.preprocessing import LabelEncoder\n",
        "\n",
        "# Initialize LabelEncoder\n",
        "label_encoder = LabelEncoder()\n",
        "\n",
        "# Convert 'Sex' column to numerical values (0 for Male, 1 for Female)\n",
        "dftr['Sex'] = label_encoder.fit_transform(dftr['Sex'])\n",
        "\n",
        "# Check the unique values in the 'Sex' column\n",
        "print(dftr['Sex'].unique())  # Output: [0, 1]\n"
      ],
      "metadata": {
        "trusted": true,
        "execution": {
          "iopub.status.busy": "2025-01-17T17:39:46.987069Z",
          "iopub.execute_input": "2025-01-17T17:39:46.987453Z",
          "iopub.status.idle": "2025-01-17T17:39:47.03725Z",
          "shell.execute_reply.started": "2025-01-17T17:39:46.987425Z",
          "shell.execute_reply": "2025-01-17T17:39:47.036119Z"
        },
        "id": "CtP-3VU3oBR7"
      },
      "outputs": [],
      "execution_count": null
    },
    {
      "cell_type": "code",
      "source": [
        "print(dftr.info())"
      ],
      "metadata": {
        "trusted": true,
        "execution": {
          "iopub.status.busy": "2025-01-17T17:39:49.318624Z",
          "iopub.execute_input": "2025-01-17T17:39:49.319062Z",
          "iopub.status.idle": "2025-01-17T17:39:49.333617Z",
          "shell.execute_reply.started": "2025-01-17T17:39:49.319025Z",
          "shell.execute_reply": "2025-01-17T17:39:49.331938Z"
        },
        "id": "l1jfni5goBR7"
      },
      "outputs": [],
      "execution_count": null
    },
    {
      "cell_type": "code",
      "source": [
        "# Check if there are any missing values\n",
        "print(dftr.isnull().sum())\n"
      ],
      "metadata": {
        "trusted": true,
        "execution": {
          "iopub.status.busy": "2025-01-17T17:39:50.195406Z",
          "iopub.execute_input": "2025-01-17T17:39:50.195753Z",
          "iopub.status.idle": "2025-01-17T17:39:50.204781Z",
          "shell.execute_reply.started": "2025-01-17T17:39:50.195716Z",
          "shell.execute_reply": "2025-01-17T17:39:50.203394Z"
        },
        "id": "poHUu-7uoBR8"
      },
      "outputs": [],
      "execution_count": null
    },
    {
      "cell_type": "code",
      "source": [
        "dftr['Age'] = dftr['Age'].fillna(dftr['Age'].median())\n"
      ],
      "metadata": {
        "trusted": true,
        "execution": {
          "iopub.status.busy": "2025-01-17T17:42:48.603169Z",
          "iopub.execute_input": "2025-01-17T17:42:48.603649Z",
          "iopub.status.idle": "2025-01-17T17:42:48.610607Z",
          "shell.execute_reply.started": "2025-01-17T17:42:48.603617Z",
          "shell.execute_reply": "2025-01-17T17:42:48.608956Z"
        },
        "id": "DBJWxBRxoBR8"
      },
      "outputs": [],
      "execution_count": null
    },
    {
      "cell_type": "code",
      "source": [
        "print(dftr.columns)\n"
      ],
      "metadata": {
        "trusted": true,
        "execution": {
          "iopub.status.busy": "2025-01-17T17:43:52.685127Z",
          "iopub.execute_input": "2025-01-17T17:43:52.685619Z",
          "iopub.status.idle": "2025-01-17T17:43:52.692062Z",
          "shell.execute_reply.started": "2025-01-17T17:43:52.68558Z",
          "shell.execute_reply": "2025-01-17T17:43:52.690482Z"
        },
        "id": "C7Epx9sooBR8"
      },
      "outputs": [],
      "execution_count": null
    },
    {
      "cell_type": "code",
      "source": [
        "if 'Cabin' in dftr.columns:\n",
        "    dftr.drop(columns=['Cabin'], inplace=True)\n",
        "else:\n",
        "    print(\"Column 'Cabin' not found in DataFrame.\")\n"
      ],
      "metadata": {
        "trusted": true,
        "execution": {
          "iopub.status.busy": "2025-01-17T17:44:19.867078Z",
          "iopub.execute_input": "2025-01-17T17:44:19.86754Z",
          "iopub.status.idle": "2025-01-17T17:44:19.874662Z",
          "shell.execute_reply.started": "2025-01-17T17:44:19.867504Z",
          "shell.execute_reply": "2025-01-17T17:44:19.873202Z"
        },
        "id": "C7VDVjO8oBR8"
      },
      "outputs": [],
      "execution_count": null
    },
    {
      "cell_type": "code",
      "source": [
        "import pandas as pd\n",
        "import numpy as np\n",
        "import matplotlib.pyplot as plt\n",
        "import seaborn as sns\n",
        "from sklearn.model_selection import train_test_split\n",
        "from sklearn.preprocessing import StandardScaler\n",
        "from sklearn.linear_model import LogisticRegression\n",
        "from sklearn.metrics import accuracy_score, confusion_matrix, classification_report\n"
      ],
      "metadata": {
        "trusted": true,
        "execution": {
          "iopub.status.busy": "2025-01-17T17:44:51.152726Z",
          "iopub.execute_input": "2025-01-17T17:44:51.153094Z",
          "iopub.status.idle": "2025-01-17T17:44:51.868171Z",
          "shell.execute_reply.started": "2025-01-17T17:44:51.153065Z",
          "shell.execute_reply": "2025-01-17T17:44:51.867098Z"
        },
        "id": "IUZbZi-7oBR8"
      },
      "outputs": [],
      "execution_count": null
    },
    {
      "cell_type": "code",
      "source": [
        "X = dftr.drop(columns=['Survived'])  # Features\n",
        "y = dftr['Survived']  # Target\n"
      ],
      "metadata": {
        "trusted": true,
        "execution": {
          "iopub.status.busy": "2025-01-17T17:45:11.177075Z",
          "iopub.execute_input": "2025-01-17T17:45:11.177668Z",
          "iopub.status.idle": "2025-01-17T17:45:11.185162Z",
          "shell.execute_reply.started": "2025-01-17T17:45:11.177633Z",
          "shell.execute_reply": "2025-01-17T17:45:11.183709Z"
        },
        "id": "oneVEmcioBR8"
      },
      "outputs": [],
      "execution_count": null
    },
    {
      "cell_type": "code",
      "source": [
        "import pandas as pd\n",
        "\n",
        "# Load training dataset\n",
        "df_train = pd.read_csv(\"/kaggle/input/titanic/train.csv\")\n",
        "\n",
        "# Load testing dataset\n",
        "df_test = pd.read_csv(\"/kaggle/input/titanic/test.csv\")\n",
        "\n",
        "# Check data structure\n",
        "print(df_train.shape, df_test.shape)  # View dimensions\n",
        "print(df_train.head())  # View first few rows\n"
      ],
      "metadata": {
        "trusted": true,
        "execution": {
          "iopub.status.busy": "2025-01-17T17:47:22.809688Z",
          "iopub.execute_input": "2025-01-17T17:47:22.810135Z",
          "iopub.status.idle": "2025-01-17T17:47:22.839392Z",
          "shell.execute_reply.started": "2025-01-17T17:47:22.810106Z",
          "shell.execute_reply": "2025-01-17T17:47:22.837803Z"
        },
        "id": "opfbEyRAoBR9"
      },
      "outputs": [],
      "execution_count": null
    },
    {
      "cell_type": "code",
      "source": [
        "# Check if there are any missing values\n",
        "print(df_test.isnull().sum())\n",
        "print(df_test.head())"
      ],
      "metadata": {
        "trusted": true,
        "execution": {
          "iopub.status.busy": "2025-01-17T17:51:02.283709Z",
          "iopub.execute_input": "2025-01-17T17:51:02.284137Z",
          "iopub.status.idle": "2025-01-17T17:51:02.2969Z",
          "shell.execute_reply.started": "2025-01-17T17:51:02.284107Z",
          "shell.execute_reply": "2025-01-17T17:51:02.295501Z"
        },
        "id": "-x_latU0oBR9"
      },
      "outputs": [],
      "execution_count": null
    },
    {
      "cell_type": "code",
      "source": [
        "if 'Cabin' in df_test.columns:\n",
        "    df_test.drop(columns=['Cabin'], inplace=True)\n",
        "else:\n",
        "    print(\"Column 'Cabin' not found in DataFrame.\")\n"
      ],
      "metadata": {
        "trusted": true,
        "execution": {
          "iopub.status.busy": "2025-01-17T17:51:32.216623Z",
          "iopub.execute_input": "2025-01-17T17:51:32.21712Z",
          "iopub.status.idle": "2025-01-17T17:51:32.224363Z",
          "shell.execute_reply.started": "2025-01-17T17:51:32.217083Z",
          "shell.execute_reply": "2025-01-17T17:51:32.222836Z"
        },
        "id": "JaR4aMRioBR9"
      },
      "outputs": [],
      "execution_count": null
    },
    {
      "cell_type": "code",
      "source": [
        "df_test['Age'] = df_test['Age'].fillna(df_test['Age'].median())\n"
      ],
      "metadata": {
        "trusted": true,
        "execution": {
          "iopub.status.busy": "2025-01-17T17:52:04.515932Z",
          "iopub.execute_input": "2025-01-17T17:52:04.516302Z",
          "iopub.status.idle": "2025-01-17T17:52:04.522121Z",
          "shell.execute_reply.started": "2025-01-17T17:52:04.51625Z",
          "shell.execute_reply": "2025-01-17T17:52:04.521017Z"
        },
        "id": "UzbgRVtkoBR9"
      },
      "outputs": [],
      "execution_count": null
    },
    {
      "cell_type": "code",
      "source": [
        "print(df_test.isnull().sum())\n",
        "print(df_test.head())"
      ],
      "metadata": {
        "trusted": true,
        "execution": {
          "iopub.status.busy": "2025-01-17T17:52:13.869978Z",
          "iopub.execute_input": "2025-01-17T17:52:13.87039Z",
          "iopub.status.idle": "2025-01-17T17:52:13.880717Z",
          "shell.execute_reply.started": "2025-01-17T17:52:13.870357Z",
          "shell.execute_reply": "2025-01-17T17:52:13.879531Z"
        },
        "id": "iNn8zEeNoBR-"
      },
      "outputs": [],
      "execution_count": null
    },
    {
      "cell_type": "code",
      "source": [
        "#label encoding\n",
        "from sklearn.preprocessing import LabelEncoder\n",
        "\n",
        "# Initialize LabelEncoder\n",
        "label_encoder = LabelEncoder()\n",
        "\n",
        "# Convert 'Sex' column to numerical values (0 for Male, 1 for Female)\n",
        "df_test['Sex'] = label_encoder.fit_transform(df_test['Sex'])\n",
        "\n",
        "# Check the unique values in the 'Sex' column\n",
        "print(df_test['Sex'].unique())  # Output: [0, 1]\n"
      ],
      "metadata": {
        "trusted": true,
        "execution": {
          "iopub.status.busy": "2025-01-17T17:53:07.796824Z",
          "iopub.execute_input": "2025-01-17T17:53:07.797291Z",
          "iopub.status.idle": "2025-01-17T17:53:07.805943Z",
          "shell.execute_reply.started": "2025-01-17T17:53:07.797239Z",
          "shell.execute_reply": "2025-01-17T17:53:07.804254Z"
        },
        "id": "XBKSBIjYoBR-"
      },
      "outputs": [],
      "execution_count": null
    },
    {
      "cell_type": "code",
      "source": [
        "# One-hot encode 'Embarked' column\n",
        "df_test = pd.get_dummies(df_test, columns=['Embarked'], drop_first=True)\n",
        "\n",
        "# This will create columns like 'Embarked_Q' and 'Embarked_S' (instead of 'Embarked')\n"
      ],
      "metadata": {
        "trusted": true,
        "execution": {
          "iopub.status.busy": "2025-01-17T17:53:45.970039Z",
          "iopub.execute_input": "2025-01-17T17:53:45.970446Z",
          "iopub.status.idle": "2025-01-17T17:53:45.979787Z",
          "shell.execute_reply.started": "2025-01-17T17:53:45.970416Z",
          "shell.execute_reply": "2025-01-17T17:53:45.978614Z"
        },
        "id": "T3Cbb2S-oBR-"
      },
      "outputs": [],
      "execution_count": null
    },
    {
      "cell_type": "code",
      "source": [
        "print(df_test.isnull().sum())\n",
        "print(df_test.head())"
      ],
      "metadata": {
        "trusted": true,
        "execution": {
          "iopub.status.busy": "2025-01-17T17:53:55.699074Z",
          "iopub.execute_input": "2025-01-17T17:53:55.699476Z",
          "iopub.status.idle": "2025-01-17T17:53:55.711079Z",
          "shell.execute_reply.started": "2025-01-17T17:53:55.699445Z",
          "shell.execute_reply": "2025-01-17T17:53:55.709747Z"
        },
        "id": "tCuEGkEuoBR_"
      },
      "outputs": [],
      "execution_count": null
    },
    {
      "cell_type": "code",
      "source": [
        "X_train = dftr.drop(columns=['Survived'])\n",
        "y_train = dftr['Survived']\n"
      ],
      "metadata": {
        "trusted": true,
        "execution": {
          "iopub.status.busy": "2025-01-17T17:54:33.170998Z",
          "iopub.execute_input": "2025-01-17T17:54:33.171562Z",
          "iopub.status.idle": "2025-01-17T17:54:33.180015Z",
          "shell.execute_reply.started": "2025-01-17T17:54:33.171509Z",
          "shell.execute_reply": "2025-01-17T17:54:33.178629Z"
        },
        "id": "lX-o3JfQoBR_"
      },
      "outputs": [],
      "execution_count": null
    },
    {
      "cell_type": "code",
      "source": [
        "\n",
        "print(df_test.isnull().sum())  # Should print 0 missing values\n"
      ],
      "metadata": {
        "trusted": true,
        "execution": {
          "iopub.status.busy": "2025-01-17T17:55:27.370936Z",
          "iopub.execute_input": "2025-01-17T17:55:27.371393Z",
          "iopub.status.idle": "2025-01-17T17:55:27.379631Z",
          "shell.execute_reply.started": "2025-01-17T17:55:27.371362Z",
          "shell.execute_reply": "2025-01-17T17:55:27.378403Z"
        },
        "id": "KguyHbMsoBR_"
      },
      "outputs": [],
      "execution_count": null
    },
    {
      "cell_type": "code",
      "source": [
        "print(dftr.dtypes)\n"
      ],
      "metadata": {
        "trusted": true,
        "execution": {
          "iopub.status.busy": "2025-01-17T17:57:53.486975Z",
          "iopub.execute_input": "2025-01-17T17:57:53.487459Z",
          "iopub.status.idle": "2025-01-17T17:57:53.494534Z",
          "shell.execute_reply.started": "2025-01-17T17:57:53.48741Z",
          "shell.execute_reply": "2025-01-17T17:57:53.493354Z"
        },
        "id": "Q93QjkzKoBR_"
      },
      "outputs": [],
      "execution_count": null
    },
    {
      "cell_type": "code",
      "source": [
        "dftr['Sex'] = dftr['Sex'].map({'male': 0, 'female': 1})\n",
        "df_test['Sex'] = df_test['Sex'].map({'male': 0, 'female': 1})\n"
      ],
      "metadata": {
        "trusted": true,
        "execution": {
          "iopub.status.busy": "2025-01-17T17:58:29.286591Z",
          "iopub.execute_input": "2025-01-17T17:58:29.287012Z",
          "iopub.status.idle": "2025-01-17T17:58:29.295745Z",
          "shell.execute_reply.started": "2025-01-17T17:58:29.286979Z",
          "shell.execute_reply": "2025-01-17T17:58:29.294375Z"
        },
        "id": "J1On9HyxoBR_"
      },
      "outputs": [],
      "execution_count": null
    },
    {
      "cell_type": "code",
      "source": [
        "dftr.drop(columns=['Name', 'Ticket'], inplace=True, errors='ignore')\n",
        "df_test.drop(columns=['Name', 'Ticket'], inplace=True, errors='ignore')\n"
      ],
      "metadata": {
        "trusted": true,
        "execution": {
          "iopub.status.busy": "2025-01-17T18:00:18.003829Z",
          "iopub.execute_input": "2025-01-17T18:00:18.004231Z",
          "iopub.status.idle": "2025-01-17T18:00:18.012352Z",
          "shell.execute_reply.started": "2025-01-17T18:00:18.004203Z",
          "shell.execute_reply": "2025-01-17T18:00:18.010967Z"
        },
        "id": "DdCY-iQ8oBSE"
      },
      "outputs": [],
      "execution_count": null
    },
    {
      "cell_type": "code",
      "source": [
        "dftr[['Embarked_Q', 'Embarked_S']] = dftr[['Embarked_Q', 'Embarked_S']].astype(int)\n",
        "df_test[['Embarked_Q', 'Embarked_S']] = df_test[['Embarked_Q', 'Embarked_S']].astype(int)\n"
      ],
      "metadata": {
        "trusted": true,
        "execution": {
          "iopub.status.busy": "2025-01-17T18:00:35.264543Z",
          "iopub.execute_input": "2025-01-17T18:00:35.265Z",
          "iopub.status.idle": "2025-01-17T18:00:35.273527Z",
          "shell.execute_reply.started": "2025-01-17T18:00:35.264965Z",
          "shell.execute_reply": "2025-01-17T18:00:35.271866Z"
        },
        "id": "lPJ-jg6QoBSF"
      },
      "outputs": [],
      "execution_count": null
    },
    {
      "cell_type": "code",
      "source": [
        "print(dftr.dtypes)\n",
        "print(df_test.dtypes)\n"
      ],
      "metadata": {
        "trusted": true,
        "execution": {
          "iopub.status.busy": "2025-01-17T18:00:44.843509Z",
          "iopub.execute_input": "2025-01-17T18:00:44.843936Z",
          "iopub.status.idle": "2025-01-17T18:00:44.852384Z",
          "shell.execute_reply.started": "2025-01-17T18:00:44.843904Z",
          "shell.execute_reply": "2025-01-17T18:00:44.850985Z"
        },
        "id": "eCc7q7EaoBSF"
      },
      "outputs": [],
      "execution_count": null
    },
    {
      "cell_type": "code",
      "source": [
        "from sklearn.preprocessing import StandardScaler\n",
        "\n",
        "scaler = StandardScaler()\n",
        "X_train = scaler.fit_transform(dftr.drop(columns=['Survived']))\n",
        "X_test = scaler.transform(df_test)  # Apply the same transformation\n"
      ],
      "metadata": {
        "trusted": true,
        "execution": {
          "iopub.status.busy": "2025-01-17T18:01:02.731402Z",
          "iopub.execute_input": "2025-01-17T18:01:02.731847Z",
          "iopub.status.idle": "2025-01-17T18:01:02.761607Z",
          "shell.execute_reply.started": "2025-01-17T18:01:02.731813Z",
          "shell.execute_reply": "2025-01-17T18:01:02.760201Z"
        },
        "id": "urPDzK8BoBSF"
      },
      "outputs": [],
      "execution_count": null
    },
    {
      "cell_type": "markdown",
      "source": [
        "problem due to misssing values"
      ],
      "metadata": {
        "id": "arkxzqdaoBSF"
      }
    },
    {
      "cell_type": "raw",
      "source": [],
      "metadata": {
        "id": "lOIj56vtoBSF"
      }
    },
    {
      "cell_type": "code",
      "source": [
        "print(dftr.isnull().sum())  # Check training set\n",
        "print(df_test.isnull().sum())  # Check test set\n"
      ],
      "metadata": {
        "trusted": true,
        "execution": {
          "iopub.status.busy": "2025-01-17T18:01:51.352239Z",
          "iopub.execute_input": "2025-01-17T18:01:51.35273Z",
          "iopub.status.idle": "2025-01-17T18:01:51.363066Z",
          "shell.execute_reply.started": "2025-01-17T18:01:51.352695Z",
          "shell.execute_reply": "2025-01-17T18:01:51.361933Z"
        },
        "id": "bbiVsrI4oBSF"
      },
      "outputs": [],
      "execution_count": null
    },
    {
      "cell_type": "code",
      "source": [
        "print(df_test.head())"
      ],
      "metadata": {
        "trusted": true,
        "execution": {
          "iopub.status.busy": "2025-01-17T18:02:29.096098Z",
          "iopub.execute_input": "2025-01-17T18:02:29.096469Z",
          "iopub.status.idle": "2025-01-17T18:02:29.108107Z",
          "shell.execute_reply.started": "2025-01-17T18:02:29.09644Z",
          "shell.execute_reply": "2025-01-17T18:02:29.106997Z"
        },
        "id": "rIv4AbQ8oBSG"
      },
      "outputs": [],
      "execution_count": null
    },
    {
      "cell_type": "code",
      "source": [
        "# Fix null values in 'Sex' column by replacing with the most frequent value\n",
        "dftr['Sex'].fillna(dftr['Sex'].mode().iloc[0], inplace=True)\n",
        "df_test['Sex'].fillna(df_test['Sex'].mode().iloc[0], inplace=True)\n"
      ],
      "metadata": {
        "trusted": true,
        "execution": {
          "iopub.status.busy": "2025-01-17T18:04:21.003327Z",
          "iopub.execute_input": "2025-01-17T18:04:21.003777Z",
          "iopub.status.idle": "2025-01-17T18:04:21.027202Z",
          "shell.execute_reply.started": "2025-01-17T18:04:21.00374Z",
          "shell.execute_reply": "2025-01-17T18:04:21.025445Z"
        },
        "id": "eGl0NqouoBSG"
      },
      "outputs": [],
      "execution_count": null
    },
    {
      "cell_type": "code",
      "source": [
        "print(dftr['Sex'].isnull().sum())  # Count of missing values\n",
        "print(dftr['Sex'].mode())  # Check if mode is empty\n"
      ],
      "metadata": {
        "trusted": true,
        "execution": {
          "iopub.status.busy": "2025-01-17T18:05:09.736601Z",
          "iopub.execute_input": "2025-01-17T18:05:09.737046Z",
          "iopub.status.idle": "2025-01-17T18:05:09.744925Z",
          "shell.execute_reply.started": "2025-01-17T18:05:09.737017Z",
          "shell.execute_reply": "2025-01-17T18:05:09.743605Z"
        },
        "id": "hA0c7AfWoBSG"
      },
      "outputs": [],
      "execution_count": null
    },
    {
      "cell_type": "markdown",
      "source": [
        "# Round 2\n"
      ],
      "metadata": {
        "id": "j8og5aI3oBSG"
      }
    },
    {
      "cell_type": "code",
      "source": [
        "import pandas as pd\n",
        "\n",
        "# Load the data\n",
        "df_train = pd.read_csv('/kaggle/input/titanic/train.csv')\n",
        "df_test = pd.read_csv('/kaggle/input/titanic/test.csv')\n",
        "\n",
        "# Display first few rows to verify\n",
        "print(df_train.head())\n",
        "print(df_test.head())\n"
      ],
      "metadata": {
        "trusted": true,
        "execution": {
          "iopub.status.busy": "2025-01-17T18:10:53.408939Z",
          "iopub.execute_input": "2025-01-17T18:10:53.409241Z",
          "iopub.status.idle": "2025-01-17T18:10:53.430476Z",
          "shell.execute_reply.started": "2025-01-17T18:10:53.409217Z",
          "shell.execute_reply": "2025-01-17T18:10:53.429733Z"
        },
        "id": "Hfb0GmnYoBSG"
      },
      "outputs": [],
      "execution_count": null
    },
    {
      "cell_type": "code",
      "source": [
        "print(df_train['Sex'].isnull().sum())  # Count of missing values\n",
        "print(df_train['Sex'].mode())  # Check if mode is empty\n"
      ],
      "metadata": {
        "trusted": true,
        "execution": {
          "iopub.status.busy": "2025-01-17T18:11:29.399552Z",
          "iopub.execute_input": "2025-01-17T18:11:29.399908Z",
          "iopub.status.idle": "2025-01-17T18:11:29.406172Z",
          "shell.execute_reply.started": "2025-01-17T18:11:29.399876Z",
          "shell.execute_reply": "2025-01-17T18:11:29.405308Z"
        },
        "id": "mRUXIuN5oBSH"
      },
      "outputs": [],
      "execution_count": null
    },
    {
      "cell_type": "code",
      "source": [
        "# One-hot encode 'Embarked' column (creates 'Embarked_Q', 'Embarked_S')\n",
        "df_train = pd.get_dummies(df_train, columns=['Embarked'], drop_first=True)\n",
        "df_test = pd.get_dummies(df_test, columns=['Embarked'], drop_first=True)\n"
      ],
      "metadata": {
        "trusted": true,
        "execution": {
          "iopub.status.busy": "2025-01-17T18:11:32.145519Z",
          "iopub.execute_input": "2025-01-17T18:11:32.145856Z",
          "iopub.status.idle": "2025-01-17T18:11:32.154885Z",
          "shell.execute_reply.started": "2025-01-17T18:11:32.145827Z",
          "shell.execute_reply": "2025-01-17T18:11:32.153974Z"
        },
        "id": "bF03fIOGoBSH"
      },
      "outputs": [],
      "execution_count": null
    },
    {
      "cell_type": "code",
      "source": [
        "# Drop irrelevant columns ('Name', 'Ticket', 'Cabin')\n",
        "df_train.drop(columns=['Name', 'Ticket', 'Cabin'], inplace=True)\n",
        "df_test.drop(columns=['Name', 'Ticket', 'Cabin'], inplace=True)\n"
      ],
      "metadata": {
        "trusted": true,
        "execution": {
          "iopub.status.busy": "2025-01-17T18:11:52.711854Z",
          "iopub.execute_input": "2025-01-17T18:11:52.712152Z",
          "iopub.status.idle": "2025-01-17T18:11:52.717908Z",
          "shell.execute_reply.started": "2025-01-17T18:11:52.712129Z",
          "shell.execute_reply": "2025-01-17T18:11:52.717136Z"
        },
        "id": "N-s_SMDmoBSI"
      },
      "outputs": [],
      "execution_count": null
    },
    {
      "cell_type": "code",
      "source": [
        "print(df_train.head())\n",
        "print(df_test.head())\n"
      ],
      "metadata": {
        "trusted": true,
        "execution": {
          "iopub.status.busy": "2025-01-17T18:16:57.534081Z",
          "iopub.execute_input": "2025-01-17T18:16:57.534424Z",
          "iopub.status.idle": "2025-01-17T18:16:57.544044Z",
          "shell.execute_reply.started": "2025-01-17T18:16:57.534397Z",
          "shell.execute_reply": "2025-01-17T18:16:57.543063Z"
        },
        "id": "YiAVFX_woBSI"
      },
      "outputs": [],
      "execution_count": null
    },
    {
      "cell_type": "code",
      "source": [
        "from sklearn.preprocessing import LabelEncoder\n",
        "\n",
        "# Initialize label encoder\n",
        "label_encoder = LabelEncoder()\n",
        "\n",
        "# Label encode 'Sex' column (male = 0, female = 1)\n",
        "df_train['Sex'] = label_encoder.fit_transform(df_train['Sex'])\n",
        "df_test['Sex'] = label_encoder.transform(df_test['Sex'])\n"
      ],
      "metadata": {
        "trusted": true,
        "execution": {
          "iopub.status.busy": "2025-01-17T18:16:54.403252Z",
          "iopub.execute_input": "2025-01-17T18:16:54.40362Z",
          "iopub.status.idle": "2025-01-17T18:16:54.409855Z",
          "shell.execute_reply.started": "2025-01-17T18:16:54.403591Z",
          "shell.execute_reply": "2025-01-17T18:16:54.408685Z"
        },
        "id": "K5Ajw07aoBSI"
      },
      "outputs": [],
      "execution_count": null
    },
    {
      "cell_type": "code",
      "source": [
        "df_train['Embarked_Q'] = df_train['Embarked_Q'].astype(int)\n",
        "df_train['Embarked_S'] = df_train['Embarked_S'].astype(int)\n",
        "\n",
        "df_test['Embarked_Q'] = df_test['Embarked_Q'].astype(int)\n",
        "df_test['Embarked_S'] = df_test['Embarked_S'].astype(int)"
      ],
      "metadata": {
        "trusted": true,
        "id": "xqyZlFcsoBSJ"
      },
      "outputs": [],
      "execution_count": null
    },
    {
      "cell_type": "code",
      "source": [
        "from sklearn.preprocessing import LabelEncoder\n",
        "from sklearn.preprocessing import StandardScaler"
      ],
      "metadata": {
        "trusted": true,
        "execution": {
          "iopub.status.busy": "2025-01-17T18:18:20.332168Z",
          "iopub.execute_input": "2025-01-17T18:18:20.332469Z",
          "iopub.status.idle": "2025-01-17T18:18:20.337517Z",
          "shell.execute_reply.started": "2025-01-17T18:18:20.332445Z",
          "shell.execute_reply": "2025-01-17T18:18:20.336672Z"
        },
        "id": "X5zPSiTroBSJ"
      },
      "outputs": [],
      "execution_count": null
    },
    {
      "cell_type": "code",
      "source": [
        "# Split into features (X) and target (y)\n",
        "X_train = df_train.drop(columns=['Survived'])\n",
        "y_train = df_train['Survived']\n",
        "X_test = df_test  # No 'Survived' column in test set\n",
        "\n",
        "# Scale the features\n",
        "scaler = StandardScaler()\n",
        "X_train_scaled = scaler.fit_transform(X_train)\n",
        "X_test_scaled = scaler.transform(X_test)"
      ],
      "metadata": {
        "trusted": true,
        "execution": {
          "iopub.status.busy": "2025-01-17T18:18:21.852287Z",
          "iopub.execute_input": "2025-01-17T18:18:21.852623Z",
          "iopub.status.idle": "2025-01-17T18:18:21.884263Z",
          "shell.execute_reply.started": "2025-01-17T18:18:21.852595Z",
          "shell.execute_reply": "2025-01-17T18:18:21.883467Z"
        },
        "id": "_hPKgCv3oBSL"
      },
      "outputs": [],
      "execution_count": null
    },
    {
      "cell_type": "code",
      "source": [
        "# Check for missing values in both train and test datasets\n",
        "print(df_train.isnull().sum())  # Train dataset\n",
        "print(df_test.isnull().sum())   # Test dataset\n"
      ],
      "metadata": {
        "trusted": true,
        "execution": {
          "iopub.status.busy": "2025-01-17T18:25:37.084327Z",
          "iopub.execute_input": "2025-01-17T18:25:37.084646Z",
          "iopub.status.idle": "2025-01-17T18:25:37.092203Z",
          "shell.execute_reply.started": "2025-01-17T18:25:37.084618Z",
          "shell.execute_reply": "2025-01-17T18:25:37.091409Z"
        },
        "id": "_viGvHoLoBSL"
      },
      "outputs": [],
      "execution_count": null
    },
    {
      "cell_type": "code",
      "source": [
        "# Check the data types of all columns\n",
        "print(df_train.dtypes)\n",
        "print(df_test.dtypes)\n"
      ],
      "metadata": {
        "trusted": true,
        "execution": {
          "iopub.status.busy": "2025-01-17T18:19:44.362281Z",
          "iopub.execute_input": "2025-01-17T18:19:44.362589Z",
          "iopub.status.idle": "2025-01-17T18:19:44.369255Z",
          "shell.execute_reply.started": "2025-01-17T18:19:44.362566Z",
          "shell.execute_reply": "2025-01-17T18:19:44.368249Z"
        },
        "id": "9Lssp03qoBSL"
      },
      "outputs": [],
      "execution_count": null
    },
    {
      "cell_type": "code",
      "source": [
        "# Correct approach to fill missing values in 'Age' column\n",
        "df_train['Age'] = df_train['Age'].fillna(df_train['Age'].median())\n",
        "df_test['Age'] = df_test['Age'].fillna(df_test['Age'].median())\n"
      ],
      "metadata": {
        "trusted": true,
        "execution": {
          "iopub.status.busy": "2025-01-17T18:22:34.233371Z",
          "iopub.execute_input": "2025-01-17T18:22:34.233701Z",
          "iopub.status.idle": "2025-01-17T18:22:34.23862Z",
          "shell.execute_reply.started": "2025-01-17T18:22:34.233673Z",
          "shell.execute_reply": "2025-01-17T18:22:34.237691Z"
        },
        "id": "ImU18PoZoBSM"
      },
      "outputs": [],
      "execution_count": null
    },
    {
      "cell_type": "code",
      "source": [
        "df_train['Fare']=df_train['Fare'].fillna(df_train['Fare'].median())\n",
        "df_test['Fare']=df_test['Fare'].fillna(df_test['Fare'].median())"
      ],
      "metadata": {
        "trusted": true,
        "execution": {
          "iopub.status.busy": "2025-01-17T18:25:27.114218Z",
          "iopub.execute_input": "2025-01-17T18:25:27.114589Z",
          "iopub.status.idle": "2025-01-17T18:25:27.120128Z",
          "shell.execute_reply.started": "2025-01-17T18:25:27.114562Z",
          "shell.execute_reply": "2025-01-17T18:25:27.119096Z"
        },
        "id": "sx0_QvWqoBSM"
      },
      "outputs": [],
      "execution_count": null
    },
    {
      "cell_type": "code",
      "source": [
        "# Check the features in the train dataset\n",
        "print(f\"Features in X_train: {X_train.columns.tolist()}\")\n",
        "print(f\"Features in X_test: {X_test.columns.tolist()}\")\n"
      ],
      "metadata": {
        "trusted": true,
        "execution": {
          "iopub.status.busy": "2025-01-17T18:25:29.903853Z",
          "iopub.execute_input": "2025-01-17T18:25:29.904157Z",
          "iopub.status.idle": "2025-01-17T18:25:29.909564Z",
          "shell.execute_reply.started": "2025-01-17T18:25:29.904136Z",
          "shell.execute_reply": "2025-01-17T18:25:29.908336Z"
        },
        "id": "XJYOW-QwoBSM"
      },
      "outputs": [],
      "execution_count": null
    },
    {
      "cell_type": "markdown",
      "source": [
        "All the preprocessing finally done"
      ],
      "metadata": {
        "id": "aI316oeYoBSM"
      }
    },
    {
      "cell_type": "code",
      "source": [
        "# Split the dataset into features (X) and target (y)\n",
        "X_train = df_train.drop(columns=['Survived'])\n",
        "y_train = df_train['Survived']\n",
        "X_test = df_test  # Test set has no 'Survived' column\n"
      ],
      "metadata": {
        "trusted": true,
        "execution": {
          "iopub.status.busy": "2025-01-17T18:26:43.456543Z",
          "iopub.execute_input": "2025-01-17T18:26:43.456892Z",
          "iopub.status.idle": "2025-01-17T18:26:43.462531Z",
          "shell.execute_reply.started": "2025-01-17T18:26:43.456864Z",
          "shell.execute_reply": "2025-01-17T18:26:43.461624Z"
        },
        "id": "5KbAWa9ooBSN"
      },
      "outputs": [],
      "execution_count": null
    },
    {
      "cell_type": "code",
      "source": [
        "from sklearn.linear_model import LogisticRegression\n",
        "from sklearn.preprocessing import StandardScaler\n",
        "from sklearn.metrics import accuracy_score\n",
        "\n",
        "# Scaling the features\n",
        "scaler = StandardScaler()\n",
        "X_train_scaled = scaler.fit_transform(X_train)\n",
        "X_test_scaled = scaler.transform(X_test)\n",
        "\n",
        "# Initialize the Logistic Regression model\n",
        "model = LogisticRegression()\n",
        "\n",
        "# Train the model\n",
        "model.fit(X_train_scaled, y_train)\n",
        "\n",
        "# Predict on the training set\n",
        "y_train_pred = model.predict(X_train_scaled)\n",
        "\n",
        "# Evaluate the model on the training data\n",
        "train_accuracy = accuracy_score(y_train, y_train_pred)\n",
        "print(f\"Training Accuracy: {train_accuracy:.4f}\")\n"
      ],
      "metadata": {
        "trusted": true,
        "execution": {
          "iopub.status.busy": "2025-01-17T18:26:51.473822Z",
          "iopub.execute_input": "2025-01-17T18:26:51.474129Z",
          "iopub.status.idle": "2025-01-17T18:26:51.803625Z",
          "shell.execute_reply.started": "2025-01-17T18:26:51.474105Z",
          "shell.execute_reply": "2025-01-17T18:26:51.802736Z"
        },
        "id": "cfNaOsw5oBSN"
      },
      "outputs": [],
      "execution_count": null
    },
    {
      "cell_type": "code",
      "source": [
        "# Make predictions on the test dataset\n",
        "y_test_pred = model.predict(X_test_scaled)\n",
        "y_test_pred1=model.predict(X_test)\n",
        "# If you want to see the predicted values for the test set\n",
        "print(\"Predictions on test data:\", y_test_pred)\n"
      ],
      "metadata": {
        "trusted": true,
        "execution": {
          "iopub.status.busy": "2025-01-17T18:39:47.367439Z",
          "iopub.execute_input": "2025-01-17T18:39:47.36778Z",
          "iopub.status.idle": "2025-01-17T18:39:47.373683Z",
          "shell.execute_reply.started": "2025-01-17T18:39:47.367751Z",
          "shell.execute_reply": "2025-01-17T18:39:47.372864Z"
        },
        "id": "oeHDAxx_oBSN"
      },
      "outputs": [],
      "execution_count": null
    },
    {
      "cell_type": "code",
      "source": [
        "y_test_pred = model.predict(df_test)  # df_test is a DataFrame with column names\n"
      ],
      "metadata": {
        "trusted": true,
        "execution": {
          "iopub.status.busy": "2025-01-17T18:41:04.565473Z",
          "iopub.execute_input": "2025-01-17T18:41:04.565798Z",
          "iopub.status.idle": "2025-01-17T18:41:04.571907Z",
          "shell.execute_reply.started": "2025-01-17T18:41:04.565773Z",
          "shell.execute_reply": "2025-01-17T18:41:04.570955Z"
        },
        "id": "3o3d1RbroBSO"
      },
      "outputs": [],
      "execution_count": null
    },
    {
      "cell_type": "code",
      "source": [
        "from sklearn.metrics import confusion_matrix\n",
        "\n",
        "# Confusion Matrix for training data\n",
        "train_cm = confusion_matrix(y_train, y_train_pred)\n",
        "print(\"Confusion Matrix for Training Data:\")\n",
        "print(train_cm)\n",
        "\n",
        "# Confusion Matrix for test data (if actual test labels are available)\n",
        "# If you have y_test for the test set, you can calculate the confusion matrix for it:\n",
        "# test_cm = confusion_matrix(y_test, y_test_pred)\n",
        "# print(\"Confusion Matrix for Test Data:\")\n",
        "# print(test_cm)\n"
      ],
      "metadata": {
        "trusted": true,
        "execution": {
          "iopub.status.busy": "2025-01-17T18:27:51.10801Z",
          "iopub.execute_input": "2025-01-17T18:27:51.108302Z",
          "iopub.status.idle": "2025-01-17T18:27:51.11546Z",
          "shell.execute_reply.started": "2025-01-17T18:27:51.108282Z",
          "shell.execute_reply": "2025-01-17T18:27:51.11477Z"
        },
        "id": "c9qTlJjnoBSO"
      },
      "outputs": [],
      "execution_count": null
    },
    {
      "cell_type": "code",
      "source": [],
      "metadata": {
        "trusted": true,
        "id": "y_6itvo9oBSO"
      },
      "outputs": [],
      "execution_count": null
    },
    {
      "cell_type": "code",
      "source": [
        "from sklearn.metrics import classification_report\n",
        "\n",
        "# Classification Report for training data\n",
        "train_report = classification_report(y_train, y_train_pred)\n",
        "print(\"Classification Report for Training Data:\")\n",
        "print(train_report)\n",
        "\n",
        "# Classification Report for test data (if actual test labels are available)\n",
        "# If you have y_test for the test set, you can calculate the classification report for it:\n",
        "# test_report = classification_report(y_test, y_test_pred)\n",
        "# print(\"Classification Report for Test Data:\")\n",
        "# print(test_report)\n"
      ],
      "metadata": {
        "trusted": true,
        "execution": {
          "iopub.status.busy": "2025-01-17T18:29:08.274361Z",
          "iopub.execute_input": "2025-01-17T18:29:08.274715Z",
          "iopub.status.idle": "2025-01-17T18:29:08.289232Z",
          "shell.execute_reply.started": "2025-01-17T18:29:08.274677Z",
          "shell.execute_reply": "2025-01-17T18:29:08.288267Z"
        },
        "id": "hgdVKhNAoBSO"
      },
      "outputs": [],
      "execution_count": null
    },
    {
      "cell_type": "code",
      "source": [
        "from sklearn.metrics import accuracy_score\n",
        "\n",
        "# Accuracy for training data\n",
        "train_accuracy = accuracy_score(y_train, y_train_pred)\n",
        "print(f\"Training Accuracy: {train_accuracy:.4f}\")\n",
        "\n",
        "# Accuracy for test data (if actual test labels are available)\n",
        "# If you have y_test for the test set, you can calculate the accuracy for it:\n",
        "# test_accuracy = accuracy_score(y_test, y_test_pred)\n",
        "# print(f\"Test Accuracy: {test_accuracy:.4f}\")\n"
      ],
      "metadata": {
        "trusted": true,
        "execution": {
          "iopub.status.busy": "2025-01-17T18:29:20.458224Z",
          "iopub.execute_input": "2025-01-17T18:29:20.458615Z",
          "iopub.status.idle": "2025-01-17T18:29:20.465529Z",
          "shell.execute_reply.started": "2025-01-17T18:29:20.458581Z",
          "shell.execute_reply": "2025-01-17T18:29:20.464708Z"
        },
        "id": "6Og_EccOoBSP"
      },
      "outputs": [],
      "execution_count": null
    },
    {
      "cell_type": "code",
      "source": [
        "from sklearn.metrics import roc_curve, auc\n",
        "import matplotlib.pyplot as plt\n",
        "\n",
        "# Compute the ROC curve and AUC for training data\n",
        "fpr_train, tpr_train, thresholds_train = roc_curve(y_train, model.predict_proba(X_train_scaled)[:, 1])\n",
        "roc_auc_train = auc(fpr_train, tpr_train)\n",
        "\n",
        "# Compute the ROC curve and AUC for test data (if actual test labels are available)\n",
        "# fpr_test, tpr_test, thresholds_test = roc_curve(y_test, model.predict_proba(X_test_scaled)[:, 1])\n",
        "# roc_auc_test = auc(fpr_test, tpr_test)\n",
        "\n",
        "# Plotting the ROC curve for training data\n",
        "plt.figure()\n",
        "plt.plot(fpr_train, tpr_train, color='darkorange', lw=2, label='ROC curve (area = %0.2f)' % roc_auc_train)\n",
        "plt.plot([0, 1], [0, 1], color='navy', lw=2, linestyle='--')\n",
        "plt.xlabel('False Positive Rate')\n",
        "plt.ylabel('True Positive Rate')\n",
        "plt.title('Receiver Operating Characteristic (ROC) - Training')\n",
        "plt.legend(loc='lower right')\n",
        "plt.show()\n",
        "\n",
        "# If you have the test labels, you can plot the test ROC curve similarly.\n",
        "# plt.figure()\n",
        "# plt.plot(fpr_test, tpr_test, color='darkorange', lw=2, label='ROC curve (area = %0.2f)' % roc_auc_test)\n",
        "# plt.plot([0, 1], [0, 1], color='navy', lw=2, linestyle='--')\n",
        "# plt.xlabel('False Positive Rate')\n",
        "# plt.ylabel('True Positive Rate')\n",
        "# plt.title('Receiver Operating Characteristic (ROC) - Test')\n",
        "# plt.legend(loc='lower right')\n",
        "# plt.show()\n"
      ],
      "metadata": {
        "trusted": true,
        "execution": {
          "iopub.status.busy": "2025-01-17T18:29:30.901623Z",
          "iopub.execute_input": "2025-01-17T18:29:30.902027Z",
          "iopub.status.idle": "2025-01-17T18:29:31.205395Z",
          "shell.execute_reply.started": "2025-01-17T18:29:30.901998Z",
          "shell.execute_reply": "2025-01-17T18:29:31.204235Z"
        },
        "id": "_xWzFG7noBSP"
      },
      "outputs": [],
      "execution_count": null
    },
    {
      "cell_type": "code",
      "source": [
        "import pandas as pd\n",
        "\n",
        "# Assuming you already have the 'y_test_pred' and 'df_test' (test data with 'PassengerId')\n",
        "\n",
        "# Create a new DataFrame with 'PassengerId' and 'Survived' (predictions)\n",
        "submission = pd.DataFrame({\n",
        "    'PassengerId': df_test['PassengerId'],  # PassengerId column from test set\n",
        "    'Survived': y_test_pred                 # The predicted 'Survived' values\n",
        "})\n",
        "\n",
        "# Ensure that the PassengerId is sorted as per submission requirements\n",
        "submission = submission.sort_values(by='PassengerId')\n",
        "\n",
        "# Save the DataFrame as a CSV file (no index column, as per submission requirements)\n",
        "submission.to_csv('submission.csv', index=False)\n",
        "\n",
        "print(\"Submission file 'submission.csv' created successfully!\")\n"
      ],
      "metadata": {
        "trusted": true,
        "execution": {
          "iopub.status.busy": "2025-01-17T18:29:49.990076Z",
          "iopub.execute_input": "2025-01-17T18:29:49.990433Z",
          "iopub.status.idle": "2025-01-17T18:29:50.008286Z",
          "shell.execute_reply.started": "2025-01-17T18:29:49.990404Z",
          "shell.execute_reply": "2025-01-17T18:29:50.007331Z"
        },
        "id": "402I-dcIoBSP"
      },
      "outputs": [],
      "execution_count": null
    },
    {
      "cell_type": "code",
      "source": [
        "# Assuming y_test_pred contains the predictions for the test set\n",
        "# And df_test contains the test set data which has 'PassengerId'\n",
        "\n",
        "# Create a new DataFrame for submission\n",
        "submission = pd.DataFrame({\n",
        "    'PassengerId': df_test['PassengerId'],  # PassengerId from test set\n",
        "    'Survived': y_test_pred  # Your predictions\n",
        "})\n",
        "\n",
        "# Make sure 'PassengerId' is sorted if necessary (optional as Kaggle doesn't require sorting)\n",
        "submission = submission.sort_values(by='PassengerId')\n",
        "\n",
        "# Save the DataFrame as a CSV file\n",
        "submission.to_csv('submission.csv', index=False)\n",
        "\n",
        "# Check if the submission file is saved correctly\n",
        "print(submission.head())\n"
      ],
      "metadata": {
        "trusted": true,
        "execution": {
          "iopub.status.busy": "2025-01-17T18:31:33.710593Z",
          "iopub.execute_input": "2025-01-17T18:31:33.710971Z",
          "iopub.status.idle": "2025-01-17T18:31:33.720047Z",
          "shell.execute_reply.started": "2025-01-17T18:31:33.710939Z",
          "shell.execute_reply": "2025-01-17T18:31:33.719197Z"
        },
        "id": "bIJBY1tVoBSQ"
      },
      "outputs": [],
      "execution_count": null
    },
    {
      "cell_type": "code",
      "source": [
        "submission.to_csv('submission.csv', index=False)\n"
      ],
      "metadata": {
        "trusted": true,
        "execution": {
          "iopub.status.busy": "2025-01-17T18:35:47.374181Z",
          "iopub.execute_input": "2025-01-17T18:35:47.374489Z",
          "iopub.status.idle": "2025-01-17T18:35:47.379638Z",
          "shell.execute_reply.started": "2025-01-17T18:35:47.374466Z",
          "shell.execute_reply": "2025-01-17T18:35:47.379014Z"
        },
        "id": "3lxERXbtoBSQ"
      },
      "outputs": [],
      "execution_count": null
    },
    {
      "cell_type": "code",
      "source": [
        "y_test_pred = model.predict(df_test)  # df_test is a DataFrame with column names\n"
      ],
      "metadata": {
        "trusted": true,
        "execution": {
          "iopub.status.busy": "2025-01-17T18:39:20.074095Z",
          "iopub.execute_input": "2025-01-17T18:39:20.074407Z",
          "iopub.status.idle": "2025-01-17T18:39:20.080571Z",
          "shell.execute_reply.started": "2025-01-17T18:39:20.07438Z",
          "shell.execute_reply": "2025-01-17T18:39:20.079636Z"
        },
        "id": "vUeidXn2oBSR"
      },
      "outputs": [],
      "execution_count": null
    },
    {
      "cell_type": "markdown",
      "source": [
        "# Round 3\n"
      ],
      "metadata": {
        "id": "0VFrkusToBSR"
      }
    },
    {
      "cell_type": "code",
      "source": [
        "# Import necessary libraries\n",
        "import pandas as pd\n",
        "from sklearn.preprocessing import LabelEncoder\n",
        "from sklearn.linear_model import LogisticRegression\n",
        "\n",
        "# Load the datasets (ensure paths are correct)\n",
        "df_train = pd.read_csv('/kaggle/input/titanic/train.csv')\n",
        "df_test = pd.read_csv('/kaggle/input/titanic/test.csv')\n",
        "\n",
        "# Ensure 'PassengerId' is preserved for submission file\n",
        "df_test_passenger_ids = df_test['PassengerId']\n",
        "\n",
        "# Now, we need to preprocess both the train and test data\n"
      ],
      "metadata": {
        "trusted": true,
        "execution": {
          "iopub.status.busy": "2025-01-17T18:46:34.250428Z",
          "iopub.execute_input": "2025-01-17T18:46:34.250846Z",
          "iopub.status.idle": "2025-01-17T18:46:34.268452Z",
          "shell.execute_reply.started": "2025-01-17T18:46:34.250812Z",
          "shell.execute_reply": "2025-01-17T18:46:34.267388Z"
        },
        "id": "3ti4eKwkoBSR"
      },
      "outputs": [],
      "execution_count": null
    },
    {
      "cell_type": "code",
      "source": [
        "# Handle missing values in Age and Fare (for both train and test data)\n",
        "# Correct approach to fill missing values in 'Age' column\n",
        "df_train['Age'] = df_train['Age'].fillna(df_train['Age'].median())\n",
        "df_test['Age'] = df_test['Age'].fillna(df_test['Age'].median())\n",
        "\n",
        "\n",
        "df_train['Fare']=df_train['Fare'].fillna(df_train['Fare'].median())\n",
        "df_test['Fare']=df_test['Fare'].fillna(df_test['Fare'].median())\n",
        "\n",
        "\n",
        "\n",
        "# Encode 'Sex' column\n",
        "label_encoder = LabelEncoder()\n",
        "df_train['Sex'] = label_encoder.fit_transform(df_train['Sex'])\n",
        "df_test['Sex'] = label_encoder.transform(df_test['Sex'])\n",
        "\n",
        "# One-hot encode 'Embarked' column\n",
        "df_train = pd.get_dummies(df_train, columns=['Embarked'], drop_first=True)\n",
        "df_test = pd.get_dummies(df_test, columns=['Embarked'], drop_first=True)\n",
        "\n",
        "# Drop 'Name', 'Ticket', 'Cabin' columns (as they are not useful for modeling)\n",
        "df_train.drop(['Name', 'Ticket', 'Cabin'], axis=1, inplace=True)\n",
        "df_test.drop(['Name', 'Ticket', 'Cabin'], axis=1, inplace=True)\n",
        "\n",
        "df_train['Embarked_Q'] = df_train['Embarked_Q'].astype(int)\n",
        "df_train['Embarked_S'] = df_train['Embarked_S'].astype(int)\n",
        "\n",
        "df_test['Embarked_Q'] = df_test['Embarked_Q'].astype(int)\n",
        "df_test['Embarked_S'] = df_test['Embarked_S'].astype(int)\n",
        "\n",
        "# Check the final preprocessed datasets\n",
        "print(df_train.head())\n",
        "print(df_test.head())\n"
      ],
      "metadata": {
        "trusted": true,
        "execution": {
          "iopub.status.busy": "2025-01-17T18:46:35.505428Z",
          "iopub.execute_input": "2025-01-17T18:46:35.505838Z",
          "iopub.status.idle": "2025-01-17T18:46:35.534893Z",
          "shell.execute_reply.started": "2025-01-17T18:46:35.505806Z",
          "shell.execute_reply": "2025-01-17T18:46:35.533795Z"
        },
        "id": "jxQOF3jroBSR"
      },
      "outputs": [],
      "execution_count": null
    },
    {
      "cell_type": "code",
      "source": [
        "# Features (X) and target (y) for training\n",
        "X_train = df_train.drop(['Survived'], axis=1)\n",
        "y_train = df_train['Survived']\n",
        "\n",
        "# Initialize and train the Logistic Regression model\n",
        "model = LogisticRegression(max_iter=300)\n",
        "model.fit(X_train, y_train)\n",
        "\n",
        "# Check the model's accuracy on training data (optional)\n",
        "print(\"Training accuracy: \", model.score(X_train, y_train))\n"
      ],
      "metadata": {
        "trusted": true,
        "execution": {
          "iopub.status.busy": "2025-01-17T18:47:44.6745Z",
          "iopub.execute_input": "2025-01-17T18:47:44.674877Z",
          "iopub.status.idle": "2025-01-17T18:47:44.760101Z",
          "shell.execute_reply.started": "2025-01-17T18:47:44.674851Z",
          "shell.execute_reply": "2025-01-17T18:47:44.758608Z"
        },
        "id": "q8kjAtlHoBSR"
      },
      "outputs": [],
      "execution_count": null
    },
    {
      "cell_type": "code",
      "source": [
        "# Predict the survival on the test data\n",
        "X_test = df_test  # Features for the test data\n",
        "y_test_pred = model.predict(X_test)  # Predicted labels (0 or 1)\n"
      ],
      "metadata": {
        "trusted": true,
        "execution": {
          "iopub.status.busy": "2025-01-17T18:47:58.069213Z",
          "iopub.execute_input": "2025-01-17T18:47:58.06954Z",
          "iopub.status.idle": "2025-01-17T18:47:58.076177Z",
          "shell.execute_reply.started": "2025-01-17T18:47:58.069516Z",
          "shell.execute_reply": "2025-01-17T18:47:58.07484Z"
        },
        "id": "dywGvrIdoBSS"
      },
      "outputs": [],
      "execution_count": null
    },
    {
      "cell_type": "code",
      "source": [
        "# Prepare the submission DataFrame\n",
        "submission = pd.DataFrame({\n",
        "    'PassengerId': df_test_passenger_ids,  # Use the 'PassengerId' from the test set\n",
        "    'Survived': y_test_pred  # Predictions from the model\n",
        "})\n",
        "\n",
        "# Sort by 'PassengerId' (optional, if you want to ensure it's sorted)\n",
        "submission = submission.sort_values(by='PassengerId')\n",
        "\n",
        "# Save to CSV\n",
        "submission.to_csv('/kaggle/working/submission.csv', index=False)\n",
        "\n",
        "# Verify the final submission DataFrame\n",
        "print(submission.head())\n"
      ],
      "metadata": {
        "trusted": true,
        "execution": {
          "iopub.status.busy": "2025-01-17T18:48:16.285134Z",
          "iopub.execute_input": "2025-01-17T18:48:16.285497Z",
          "iopub.status.idle": "2025-01-17T18:48:16.30087Z",
          "shell.execute_reply.started": "2025-01-17T18:48:16.285466Z",
          "shell.execute_reply": "2025-01-17T18:48:16.299672Z"
        },
        "id": "dtaoN25NoBSS"
      },
      "outputs": [],
      "execution_count": null
    },
    {
      "cell_type": "code",
      "source": [],
      "metadata": {
        "trusted": true,
        "id": "HscNTLQVoBSS"
      },
      "outputs": [],
      "execution_count": null
    }
  ]
}